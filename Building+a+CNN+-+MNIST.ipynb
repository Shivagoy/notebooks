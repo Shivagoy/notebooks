{
 "cells": [
  {
   "cell_type": "markdown",
   "metadata": {
    "id": "gd7FNnjmqkky"
   },
   "source": [
    "# Building a Basic CNN: The MNIST Dataset\n",
    "\n",
    "In this notebook, we will build a simple CNN-based architecture to classify the 10 digits (0-9) of the MNIST dataset. The objective of this notebook is to become familiar with the process of building CNNs in Keras.\n",
    "\n",
    "We will go through the following steps:\n",
    "1. Importing libraries and the dataset\n",
    "2. Data preparation: Train-test split, specifying the shape of the input data etc.\n",
    "3. Building and understanding the CNN architecture \n",
    "4. Fitting and evaluating the model\n",
    "\n",
    "Let's dive in."
   ]
  },
  {
   "cell_type": "markdown",
   "metadata": {
    "id": "SsCxzZ-yqkk4"
   },
   "source": [
    "## 1. Importing Libraries and the Dataset\n",
    "\n",
    "Let's load the required libraries. From Keras, we need to import two main components:\n",
    "1. `Sequential` from `keras.models`: `Sequential` is the keras abstraction for creating models with a stack of layers (MLP has multiple hidden layers, CNNs have convolutional layers, etc.). \n",
    "2. Various types of layers from `keras.layers`: These layers are added (one after the other) to the `Sequential` model.\n"
   ]
  },
  {
   "cell_type": "code",
   "execution_count": 92,
   "metadata": {
    "executionInfo": {
     "elapsed": 3,
     "status": "ok",
     "timestamp": 1669786814888,
     "user": {
      "displayName": "Akshar Gupta",
      "userId": "03393520324044557957"
     },
     "user_tz": -330
    },
    "id": "B2m-7fq9qkk6"
   },
   "outputs": [],
   "source": [
    "import numpy as np\n",
    "import random\n",
    "import tensorflow as tf\n",
    "from tensorflow.keras.datasets import mnist\n",
    "from tensorflow.keras import Sequential\n",
    "from tensorflow.keras.layers import Dense, Dropout, Flatten, Conv2D, MaxPooling2D"
   ]
  },
  {
   "cell_type": "markdown",
   "metadata": {
    "id": "M22Zo0dWqkk8"
   },
   "source": [
    "Let's load the MNIST dataset from `keras.datasets`. The download may take a few minutes."
   ]
  },
  {
   "cell_type": "code",
   "execution_count": 93,
   "metadata": {
    "executionInfo": {
     "elapsed": 4,
     "status": "ok",
     "timestamp": 1669786814890,
     "user": {
      "displayName": "Akshar Gupta",
      "userId": "03393520324044557957"
     },
     "user_tz": -330
    },
    "id": "5_URmt4Mqkk8"
   },
   "outputs": [
    {
     "name": "stdout",
     "output_type": "stream",
     "text": [
      "Data loaded successfully!\n"
     ]
    }
   ],
   "source": [
    "# !pip install --upgrade certifi\n",
    "\n",
    "# # load the dataset into train and test sets\n",
    "# (x_train, y_train), (x_test, y_test) = mnist.load_data()\n",
    "import matplotlib.pyplot as plt\n",
    "\n",
    "\n",
    "import tensorflow as tf\n",
    "\n",
    "# Load the MNIST dataset using TensorFlow's built-in function\n",
    "file_path = 'mnist.npz'\n",
    "\n",
    "# (x_train, y_train), (x_test, y_test) = tf.keras.datasets.mnist.load_data()\n",
    "# Load the dataset\n",
    "with np.load(file_path, allow_pickle=True) as data:\n",
    "    x_train, y_train = data['x_train'], data['y_train']\n",
    "    x_test, y_test = data['x_test'], data['y_test']\n",
    "\n",
    "\n",
    "print(\"Data loaded successfully!\")"
   ]
  },
  {
   "cell_type": "code",
   "execution_count": 94,
   "metadata": {
    "colab": {
     "base_uri": "https://localhost:8080/"
    },
    "executionInfo": {
     "elapsed": 1697,
     "status": "ok",
     "timestamp": 1669786813195,
     "user": {
      "displayName": "Akshar Gupta",
      "userId": "03393520324044557957"
     },
     "user_tz": -330
    },
    "id": "JVQjhrC96TNB",
    "outputId": "af78ad60-bf3e-44ae-e451-976165a3092f"
   },
   "outputs": [
    {
     "data": {
      "image/png": "[encoded data removed]",
      "text/plain": [
       "<Figure size 1000x200 with 20 Axes>"
      ]
     },
     "metadata": {},
     "output_type": "display_data"
    },
    {
     "data": {
      "image/png": "[encoded data removed]",
      "text/plain": [
       "<Figure size 1000x200 with 10 Axes>"
      ]
     },
     "metadata": {},
     "output_type": "display_data"
    }
   ],
   "source": [
    "# type(np.load(file_path)[0][0])\n",
    "\n",
    "\n",
    "def display_samples(images, labels, num_samples=20):\n",
    "    plt.figure(figsize=(10, 2))\n",
    "    for i in range(num_samples):\n",
    "        plt.subplot(1, num_samples, i + 1)\n",
    "        plt.imshow(images[i], cmap='cividis')\n",
    "        plt.title(f\"Label: {labels[i]}\")\n",
    "        plt.axis('off')\n",
    "    plt.show()\n",
    "\n",
    "# Display sample images and their labels\n",
    "display_samples(x_train, y_train)\n",
    "y_train[0:10]\n",
    "# x_train[0][:10]\n",
    "# Function to display the first 10 sample images with their labels\n",
    "def display_first_10_samples(images, labels):\n",
    "    plt.figure(figsize=(10, 2))\n",
    "    for i in range(10):\n",
    "        plt.subplot(1, 10, i + 1)\n",
    "        plt.imshow(images[i], cmap='gray')\n",
    "        plt.title(f\"{labels[i]}\")\n",
    "        plt.axis('off')\n",
    "    plt.show()\n",
    "\n",
    "# Display the first 10 images and their labels\n",
    "display_first_10_samples(x_train, y_train)"
   ]
  },
  {
   "cell_type": "code",
   "execution_count": 26,
   "metadata": {
    "colab": {
     "base_uri": "https://localhost:8080/"
    },
    "executionInfo": {
     "elapsed": 14,
     "status": "ok",
     "timestamp": 1669784786618,
     "user": {
      "displayName": "Akshar Gupta",
      "userId": "03393520324044557957"
     },
     "user_tz": -330
    },
    "id": "2x_hWCQAqkk9",
    "outputId": "643bb082-e603-400c-c7b5-eccf7ccf77e5"
   },
   "outputs": [
    {
     "name": "stdout",
     "output_type": "stream",
     "text": [
      "train data\n",
      "x_train: (60000, 28, 28)\n",
      "y_train: (60000,)\n",
      "\n",
      " test data\n",
      "x_test: (10000, 28, 28)\n",
      "y_test: (10000,)\n"
     ]
    }
   ],
   "source": [
    "print(\"train data\")\n",
    "print('x_train:', x_train.shape)\n",
    "print('y_train:', y_train.shape)\n",
    "print(\"\\n test data\")\n",
    "print('x_test:', x_test.shape)\n",
    "print('y_test:', y_test.shape)"
   ]
  },
  {
   "cell_type": "code",
   "execution_count": 95,
   "metadata": {
    "colab": {
     "base_uri": "https://localhost:8080/",
     "height": 175
    },
    "executionInfo": {
     "elapsed": 42,
     "status": "ok",
     "timestamp": 1669784493913,
     "user": {
      "displayName": "Akshar Gupta",
      "userId": "03393520324044557957"
     },
     "user_tz": -330
    },
    "id": "nUs7NNCeMLuN",
    "outputId": "86a21070-0ab0-4929-aa90-dee23648ff89"
   },
   "outputs": [
    {
     "data": {
      "image/png": "[encoded data removed]",
      "text/plain": [
       "<Figure size 200x200 with 1 Axes>"
      ]
     },
     "metadata": {},
     "output_type": "display_data"
    },
    {
     "name": "stdout",
     "output_type": "stream",
     "text": [
      "Shape: (28, 28)\n",
      "Label: 5\n"
     ]
    }
   ],
   "source": [
    "import matplotlib.pyplot as plt\n",
    "plt.figure(figsize=(2, 2))\n",
    "plt.imshow(x_train[0], cmap='gray')\n",
    "plt.axis('off')\n",
    "plt.show()\n",
    "print('Shape:', x_train[0].shape)\n",
    "print('Label:', y_train[0])"
   ]
  },
  {
   "cell_type": "markdown",
   "metadata": {
    "id": "tCtnXOVxqkk-"
   },
   "source": [
    "So we have 60,000 training and 10,000 test images each of size 28 x 28. Note that the images are grayscale and thus are stored as 2D arrays.<br> \n",
    "\n",
    "![Screenshot 2022-11-10 163738.png](data:image/png;base64,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)\n",
    "\n",
    "Also, let's sample randomly only 20k images for training (just to speed up the training a bit)."
   ]
  },
  {
   "cell_type": "code",
   "execution_count": 96,
   "metadata": {
    "colab": {
     "base_uri": "https://localhost:8080/"
    },
    "executionInfo": {
     "elapsed": 34,
     "status": "ok",
     "timestamp": 1669784493915,
     "user": {
      "displayName": "Akshar Gupta",
      "userId": "03393520324044557957"
     },
     "user_tz": -330
    },
    "id": "4luTTwCGqkk-",
    "outputId": "215f4b5f-3bf8-4b6c-8e5f-4b1a605cec90"
   },
   "outputs": [
    {
     "name": "stdout",
     "output_type": "stream",
     "text": [
      "(20000, 28, 28)\n",
      "(20000,)\n",
      "Raw data for image at index 0:\n",
      "(28, 28)\n",
      "5\n",
      "Label: 3\n"
     ]
    }
   ],
   "source": [
    "# sample only 20k images for training\n",
    "idx = np.random.randint(x_train.shape[0], size=20000) # sample 20k indices from 0-60,000\n",
    "x_train = x_train[idx, :]\n",
    "y_train = y_train[idx]\n",
    "print(x_train.shape)\n",
    "print(y_train.shape)\n",
    "index = 0\n",
    "\n",
    "# Print the raw data for the chosen image\n",
    "print(f\"Raw data for image at index {index}:\")\n",
    "print(x_train[index].shape)\n",
    "print(y_train[90])\n",
    "\n",
    "\n",
    "# Print the label for the chosen image\n",
    "print(f\"Label: {y_train[index]}\")"
   ]
  },
  {
   "cell_type": "markdown",
   "metadata": {
    "id": "cGNVG-Bkqkk_"
   },
   "source": [
    "## 2. Data Preparation\n",
    "\n",
    "Let's prepare the dataset for feeding to the network. We will do the following three main steps:<br>\n",
    "\n",
    "#### 2.1 Reshape the Data\n",
    "First, let's understand the shape in which tensorflow network expects the training data. Tensorflow expects image data to be of `(#pixels in height, #pixels in width, #pixels in depth)` shape. Since MNIST is grayscale image, `#pixels in depth = 1`. Since we have 20,000 training samples each of size (28, 28, 1), the training data (`x_train`) needs to be of the shape `(20000, 28, 28, 1)`. If the images were coloured, the shape would have been `(20000, 28, 28, 3)`, the value 3 representing 3 channels in depth, R (Red), G (Green) and B (Blue), respectively.\n",
    "\n",
    "Further, each of the 20,000 images have a 0-9 label, so `y_train` needs to be of the shape `(20000, 10)` where each image's label is represented as a 10-d **one-hot encoded vector**.\n",
    "\n",
    "#### 2.2 Rescaling (Normalisation)\n",
    "The value of each pixel is between 0-255, so we will **rescale each pixel** by dividing by 255 so that the range becomes 0-1. Recollect <a href=\"https://stats.stackexchange.com/questions/185853/why-do-we-need-to-normalize-the-images-before-we-put-them-into-cnn\">why normalisation is important for training NNs</a>.\n",
    "\n",
    "<mark> We are rescaling, but we're not actually normalizing the images. For that we would have to subtract the mean and divide by the standard deviation. </mark> \n",
    "\n",
    "#### 2.3 Converting Input Data Type: Int to Float\n",
    "The pixels are originally stored as type `int`, but it is advisable to feed the data as `float`. This is not really compulsory, but advisable. You can read <a href=\"https://datascience.stackexchange.com/questions/13636/neural-network-data-type-conversion-float-from-int\">why conversion from int to float is helpful here</a>.\n"
   ]
  },
  {
   "cell_type": "code",
   "execution_count": 97,
   "metadata": {
    "executionInfo": {
     "elapsed": 30,
     "status": "ok",
     "timestamp": 1669784493917,
     "user": {
      "displayName": "Akshar Gupta",
      "userId": "03393520324044557957"
     },
     "user_tz": -330
    },
    "id": "gNZX4o_MqklB"
   },
   "outputs": [],
   "source": [
    "# specify input dimensions of each image\n",
    "img_rows, img_cols = 28, 28\n",
    "input_shape = (img_rows, img_cols, 1)\n",
    "\n",
    "# batch size, number of classes, epochs\n",
    "batch_size = 128\n",
    "num_classes = 10\n",
    "epochs = 21"
   ]
  },
  {
   "cell_type": "markdown",
   "metadata": {
    "id": "dB6tne5uqklB"
   },
   "source": [
    "Let's now reshape the array `x_train` from shape `(20000, 28, 28)`to `(20000, 28, 28, 1)`. Analogously for `x_test`."
   ]
  },
  {
   "cell_type": "code",
   "execution_count": 98,
   "metadata": {
    "colab": {
     "base_uri": "https://localhost:8080/"
    },
    "executionInfo": {
     "elapsed": 29,
     "status": "ok",
     "timestamp": 1669784493918,
     "user": {
      "displayName": "Akshar Gupta",
      "userId": "03393520324044557957"
     },
     "user_tz": -330
    },
    "id": "inUb_WhFqklC",
    "outputId": "65f003ce-bda7-4ae5-e0c5-60bd9b99c05f",
    "scrolled": true
   },
   "outputs": [
    {
     "name": "stdout",
     "output_type": "stream",
     "text": [
      "(20000, 28, 28, 1)\n",
      "(10000, 28, 28, 1)\n"
     ]
    },
    {
     "data": {
      "text/plain": [
       "array([7, 2, 1, 0, 4, 1, 4, 9, 5, 9], dtype=uint8)"
      ]
     },
     "execution_count": 98,
     "metadata": {},
     "output_type": "execute_result"
    }
   ],
   "source": [
    "# reshape x_train and x_test\n",
    "x_train = x_train.reshape(x_train.shape[0], img_rows, img_cols, 1)\n",
    "x_test = x_test.reshape(x_test.shape[0], img_rows, img_cols, 1)\n",
    "print(x_train.shape)\n",
    "print(x_test.shape)\n",
    "y_test[:10]\n"
   ]
  },
  {
   "cell_type": "markdown",
   "metadata": {
    "id": "6NvviPpcqklC"
   },
   "source": [
    "Now let's reshape `y_train` from `(20000,)` to `(20000, 10)`. This can be conveniently done using the keras' `utils` module."
   ]
  },
  {
   "cell_type": "code",
   "execution_count": 99,
   "metadata": {
    "colab": {
     "base_uri": "https://localhost:8080/"
    },
    "executionInfo": {
     "elapsed": 31,
     "status": "ok",
     "timestamp": 1669784494571,
     "user": {
      "displayName": "Akshar Gupta",
      "userId": "03393520324044557957"
     },
     "user_tz": -330
    },
    "id": "2PsqObGYqklD",
    "outputId": "ac2e0969-78f8-48f2-8bda-ae9de1c770f2",
    "scrolled": true
   },
   "outputs": [
    {
     "name": "stdout",
     "output_type": "stream",
     "text": [
      "(20000, 10)\n"
     ]
    },
    {
     "data": {
      "text/plain": [
       "array([[0., 0., 0., 0., 0., 0., 0., 1., 0., 0.],\n",
       "       [0., 0., 1., 0., 0., 0., 0., 0., 0., 0.],\n",
       "       [0., 1., 0., 0., 0., 0., 0., 0., 0., 0.],\n",
       "       [1., 0., 0., 0., 0., 0., 0., 0., 0., 0.],\n",
       "       [0., 0., 0., 0., 1., 0., 0., 0., 0., 0.],\n",
       "       [0., 1., 0., 0., 0., 0., 0., 0., 0., 0.],\n",
       "       [0., 0., 0., 0., 1., 0., 0., 0., 0., 0.],\n",
       "       [0., 0., 0., 0., 0., 0., 0., 0., 0., 1.],\n",
       "       [0., 0., 0., 0., 0., 1., 0., 0., 0., 0.],\n",
       "       [0., 0., 0., 0., 0., 0., 0., 0., 0., 1.]])"
      ]
     },
     "execution_count": 99,
     "metadata": {},
     "output_type": "execute_result"
    }
   ],
   "source": [
    "# convert class labels (from digits) to one-hot encoded vectors\n",
    "\n",
    "y_train = tf.keras.utils.to_categorical(y_train, num_classes)\n",
    "y_test = tf.keras.utils.to_categorical(y_test, num_classes)\n",
    "print(y_train.shape)\n",
    "y_test[0:10]"
   ]
  },
  {
   "cell_type": "markdown",
   "metadata": {
    "id": "8G8IcbISqklD"
   },
   "source": [
    "Finally, let's convert the data type of `x_train` and `x_test` from int to float and normalise the images."
   ]
  },
  {
   "cell_type": "code",
   "execution_count": 100,
   "metadata": {
    "colab": {
     "base_uri": "https://localhost:8080/"
    },
    "executionInfo": {
     "elapsed": 28,
     "status": "ok",
     "timestamp": 1669784494573,
     "user": {
      "displayName": "Akshar Gupta",
      "userId": "03393520324044557957"
     },
     "user_tz": -330
    },
    "id": "mLEReWCEqklE",
    "outputId": "2ce3baed-50a6-4a42-ecda-d25e44dba41b"
   },
   "outputs": [
    {
     "data": {
      "text/plain": [
       "dtype('uint8')"
      ]
     },
     "execution_count": 100,
     "metadata": {},
     "output_type": "execute_result"
    }
   ],
   "source": [
    "# originally, the pixels are stored as ints\n",
    "x_train.dtype"
   ]
  },
  {
   "cell_type": "code",
   "execution_count": 101,
   "metadata": {
    "executionInfo": {
     "elapsed": 24,
     "status": "ok",
     "timestamp": 1669784494575,
     "user": {
      "displayName": "Akshar Gupta",
      "userId": "03393520324044557957"
     },
     "user_tz": -330
    },
    "id": "wWNtOtgaqklE"
   },
   "outputs": [],
   "source": [
    "# convert int to float\n",
    "x_train = x_train.astype('float32')\n",
    "x_test = x_test.astype('float32')\n",
    "\n",
    "# normalise\n",
    "x_train /= 255.0\n",
    "x_test /= 255.0"
   ]
  },
  {
   "cell_type": "markdown",
   "metadata": {
    "id": "0-qC80uRqklF"
   },
   "source": [
    "## 3. Building the Model"
   ]
  },
  {
   "cell_type": "markdown",
   "metadata": {
    "id": "nDIzgvJgqklF"
   },
   "source": [
    "Let's now build the CNN architecture. For the MNIST dataset, we do not need to build a very sophisticated CNN - a simple shallow-ish CNN would suffice. \n",
    "\n",
    "We will build a network with:\n",
    "- two convolutional layers having 32 and 64 filters respectively, \n",
    "- followed by a max pooling layer, \n",
    "- and then `Flatten` the output of the pooling layer to give us a long vector, \n",
    "- then add a fully connected `Dense` layer with 128 neurons, and finally\n",
    "- add a `softmax` layer with 10 neurons since we are doing 10 class multi-class classification.\n",
    "\n",
    "![Screenshot 2022-11-10 171005.png](data:image/png;base64,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)\n",
    "\n",
    "The generic way to build a model in Keras is to instantiate a `Sequential` model and keep adding `keras.layers` to it. We will also use some dropouts."
   ]
  },
  {
   "cell_type": "code",
   "execution_count": 102,
   "metadata": {
    "colab": {
     "base_uri": "https://localhost:8080/"
    },
    "executionInfo": {
     "elapsed": 4144,
     "status": "ok",
     "timestamp": 1669784498697,
     "user": {
      "displayName": "Akshar Gupta",
      "userId": "03393520324044557957"
     },
     "user_tz": -330
    },
    "id": "A0XOqFQ4qklG",
    "outputId": "af53ffd2-d20b-4f40-aeb7-e79aef58f780"
   },
   "outputs": [
    {
     "data": {
      "text/html": [
       "<pre style=\"white-space:pre;overflow-x:auto;line-height:normal;font-family:Menlo,'DejaVu Sans Mono',consolas,'Courier New',monospace\"><span style=\"font-weight: bold\">Model: \"sequential_3\"</span>\n",
       "</pre>\n"
      ],
      "text/plain": [
       "\u001b[1mModel: \"sequential_3\"\u001b[0m\n"
      ]
     },
     "metadata": {},
     "output_type": "display_data"
    },
    {
     "data": {
      "text/html": [
       "<pre style=\"white-space:pre;overflow-x:auto;line-height:normal;font-family:Menlo,'DejaVu Sans Mono',consolas,'Courier New',monospace\">┏━━━━━━━━━━━━━━━━━━━━━━━━━━━━━━━━━┳━━━━━━━━━━━━━━━━━━━━━━━━┳━━━━━━━━━━━━━━━┓\n",
       "┃<span style=\"font-weight: bold\"> Layer (type)                    </span>┃<span style=\"font-weight: bold\"> Output Shape           </span>┃<span style=\"font-weight: bold\">       Param # </span>┃\n",
       "┡━━━━━━━━━━━━━━━━━━━━━━━━━━━━━━━━━╇━━━━━━━━━━━━━━━━━━━━━━━━╇━━━━━━━━━━━━━━━┩\n",
       "│ conv2d_7 (<span style=\"color: #0087ff; text-decoration-color: #0087ff\">Conv2D</span>)               │ (<span style=\"color: #00d7ff; text-decoration-color: #00d7ff\">None</span>, <span style=\"color: #00af00; text-decoration-color: #00af00\">26</span>, <span style=\"color: #00af00; text-decoration-color: #00af00\">26</span>, <span style=\"color: #00af00; text-decoration-color: #00af00\">32</span>)     │           <span style=\"color: #00af00; text-decoration-color: #00af00\">320</span> │\n",
       "├─────────────────────────────────┼────────────────────────┼───────────────┤\n",
       "│ conv2d_8 (<span style=\"color: #0087ff; text-decoration-color: #0087ff\">Conv2D</span>)               │ (<span style=\"color: #00d7ff; text-decoration-color: #00d7ff\">None</span>, <span style=\"color: #00af00; text-decoration-color: #00af00\">24</span>, <span style=\"color: #00af00; text-decoration-color: #00af00\">24</span>, <span style=\"color: #00af00; text-decoration-color: #00af00\">64</span>)     │        <span style=\"color: #00af00; text-decoration-color: #00af00\">18,496</span> │\n",
       "├─────────────────────────────────┼────────────────────────┼───────────────┤\n",
       "│ max_pooling2d_3 (<span style=\"color: #0087ff; text-decoration-color: #0087ff\">MaxPooling2D</span>)  │ (<span style=\"color: #00d7ff; text-decoration-color: #00d7ff\">None</span>, <span style=\"color: #00af00; text-decoration-color: #00af00\">12</span>, <span style=\"color: #00af00; text-decoration-color: #00af00\">12</span>, <span style=\"color: #00af00; text-decoration-color: #00af00\">64</span>)     │             <span style=\"color: #00af00; text-decoration-color: #00af00\">0</span> │\n",
       "├─────────────────────────────────┼────────────────────────┼───────────────┤\n",
       "│ dropout_6 (<span style=\"color: #0087ff; text-decoration-color: #0087ff\">Dropout</span>)             │ (<span style=\"color: #00d7ff; text-decoration-color: #00d7ff\">None</span>, <span style=\"color: #00af00; text-decoration-color: #00af00\">12</span>, <span style=\"color: #00af00; text-decoration-color: #00af00\">12</span>, <span style=\"color: #00af00; text-decoration-color: #00af00\">64</span>)     │             <span style=\"color: #00af00; text-decoration-color: #00af00\">0</span> │\n",
       "├─────────────────────────────────┼────────────────────────┼───────────────┤\n",
       "│ flatten_3 (<span style=\"color: #0087ff; text-decoration-color: #0087ff\">Flatten</span>)             │ (<span style=\"color: #00d7ff; text-decoration-color: #00d7ff\">None</span>, <span style=\"color: #00af00; text-decoration-color: #00af00\">9216</span>)           │             <span style=\"color: #00af00; text-decoration-color: #00af00\">0</span> │\n",
       "├─────────────────────────────────┼────────────────────────┼───────────────┤\n",
       "│ dense_6 (<span style=\"color: #0087ff; text-decoration-color: #0087ff\">Dense</span>)                 │ (<span style=\"color: #00d7ff; text-decoration-color: #00d7ff\">None</span>, <span style=\"color: #00af00; text-decoration-color: #00af00\">128</span>)            │     <span style=\"color: #00af00; text-decoration-color: #00af00\">1,179,776</span> │\n",
       "├─────────────────────────────────┼────────────────────────┼───────────────┤\n",
       "│ dropout_7 (<span style=\"color: #0087ff; text-decoration-color: #0087ff\">Dropout</span>)             │ (<span style=\"color: #00d7ff; text-decoration-color: #00d7ff\">None</span>, <span style=\"color: #00af00; text-decoration-color: #00af00\">128</span>)            │             <span style=\"color: #00af00; text-decoration-color: #00af00\">0</span> │\n",
       "├─────────────────────────────────┼────────────────────────┼───────────────┤\n",
       "│ dense_7 (<span style=\"color: #0087ff; text-decoration-color: #0087ff\">Dense</span>)                 │ (<span style=\"color: #00d7ff; text-decoration-color: #00d7ff\">None</span>, <span style=\"color: #00af00; text-decoration-color: #00af00\">10</span>)             │         <span style=\"color: #00af00; text-decoration-color: #00af00\">1,290</span> │\n",
       "└─────────────────────────────────┴────────────────────────┴───────────────┘\n",
       "</pre>\n"
      ],
      "text/plain": [
       "┏━━━━━━━━━━━━━━━━━━━━━━━━━━━━━━━━━┳━━━━━━━━━━━━━━━━━━━━━━━━┳━━━━━━━━━━━━━━━┓\n",
       "┃\u001b[1m \u001b[0m\u001b[1mLayer (type)                   \u001b[0m\u001b[1m \u001b[0m┃\u001b[1m \u001b[0m\u001b[1mOutput Shape          \u001b[0m\u001b[1m \u001b[0m┃\u001b[1m \u001b[0m\u001b[1m      Param #\u001b[0m\u001b[1m \u001b[0m┃\n",
       "┡━━━━━━━━━━━━━━━━━━━━━━━━━━━━━━━━━╇━━━━━━━━━━━━━━━━━━━━━━━━╇━━━━━━━━━━━━━━━┩\n",
       "│ conv2d_7 (\u001b[38;5;33mConv2D\u001b[0m)               │ (\u001b[38;5;45mNone\u001b[0m, \u001b[38;5;34m26\u001b[0m, \u001b[38;5;34m26\u001b[0m, \u001b[38;5;34m32\u001b[0m)     │           \u001b[38;5;34m320\u001b[0m │\n",
       "├─────────────────────────────────┼────────────────────────┼───────────────┤\n",
       "│ conv2d_8 (\u001b[38;5;33mConv2D\u001b[0m)               │ (\u001b[38;5;45mNone\u001b[0m, \u001b[38;5;34m24\u001b[0m, \u001b[38;5;34m24\u001b[0m, \u001b[38;5;34m64\u001b[0m)     │        \u001b[38;5;34m18,496\u001b[0m │\n",
       "├─────────────────────────────────┼────────────────────────┼───────────────┤\n",
       "│ max_pooling2d_3 (\u001b[38;5;33mMaxPooling2D\u001b[0m)  │ (\u001b[38;5;45mNone\u001b[0m, \u001b[38;5;34m12\u001b[0m, \u001b[38;5;34m12\u001b[0m, \u001b[38;5;34m64\u001b[0m)     │             \u001b[38;5;34m0\u001b[0m │\n",
       "├─────────────────────────────────┼────────────────────────┼───────────────┤\n",
       "│ dropout_6 (\u001b[38;5;33mDropout\u001b[0m)             │ (\u001b[38;5;45mNone\u001b[0m, \u001b[38;5;34m12\u001b[0m, \u001b[38;5;34m12\u001b[0m, \u001b[38;5;34m64\u001b[0m)     │             \u001b[38;5;34m0\u001b[0m │\n",
       "├─────────────────────────────────┼────────────────────────┼───────────────┤\n",
       "│ flatten_3 (\u001b[38;5;33mFlatten\u001b[0m)             │ (\u001b[38;5;45mNone\u001b[0m, \u001b[38;5;34m9216\u001b[0m)           │             \u001b[38;5;34m0\u001b[0m │\n",
       "├─────────────────────────────────┼────────────────────────┼───────────────┤\n",
       "│ dense_6 (\u001b[38;5;33mDense\u001b[0m)                 │ (\u001b[38;5;45mNone\u001b[0m, \u001b[38;5;34m128\u001b[0m)            │     \u001b[38;5;34m1,179,776\u001b[0m │\n",
       "├─────────────────────────────────┼────────────────────────┼───────────────┤\n",
       "│ dropout_7 (\u001b[38;5;33mDropout\u001b[0m)             │ (\u001b[38;5;45mNone\u001b[0m, \u001b[38;5;34m128\u001b[0m)            │             \u001b[38;5;34m0\u001b[0m │\n",
       "├─────────────────────────────────┼────────────────────────┼───────────────┤\n",
       "│ dense_7 (\u001b[38;5;33mDense\u001b[0m)                 │ (\u001b[38;5;45mNone\u001b[0m, \u001b[38;5;34m10\u001b[0m)             │         \u001b[38;5;34m1,290\u001b[0m │\n",
       "└─────────────────────────────────┴────────────────────────┴───────────────┘\n"
      ]
     },
     "metadata": {},
     "output_type": "display_data"
    },
    {
     "data": {
      "text/html": [
       "<pre style=\"white-space:pre;overflow-x:auto;line-height:normal;font-family:Menlo,'DejaVu Sans Mono',consolas,'Courier New',monospace\"><span style=\"font-weight: bold\"> Total params: </span><span style=\"color: #00af00; text-decoration-color: #00af00\">1,199,882</span> (4.58 MB)\n",
       "</pre>\n"
      ],
      "text/plain": [
       "\u001b[1m Total params: \u001b[0m\u001b[38;5;34m1,199,882\u001b[0m (4.58 MB)\n"
      ]
     },
     "metadata": {},
     "output_type": "display_data"
    },
    {
     "data": {
      "text/html": [
       "<pre style=\"white-space:pre;overflow-x:auto;line-height:normal;font-family:Menlo,'DejaVu Sans Mono',consolas,'Courier New',monospace\"><span style=\"font-weight: bold\"> Trainable params: </span><span style=\"color: #00af00; text-decoration-color: #00af00\">1,199,882</span> (4.58 MB)\n",
       "</pre>\n"
      ],
      "text/plain": [
       "\u001b[1m Trainable params: \u001b[0m\u001b[38;5;34m1,199,882\u001b[0m (4.58 MB)\n"
      ]
     },
     "metadata": {},
     "output_type": "display_data"
    },
    {
     "data": {
      "text/html": [
       "<pre style=\"white-space:pre;overflow-x:auto;line-height:normal;font-family:Menlo,'DejaVu Sans Mono',consolas,'Courier New',monospace\"><span style=\"font-weight: bold\"> Non-trainable params: </span><span style=\"color: #00af00; text-decoration-color: #00af00\">0</span> (0.00 B)\n",
       "</pre>\n"
      ],
      "text/plain": [
       "\u001b[1m Non-trainable params: \u001b[0m\u001b[38;5;34m0\u001b[0m (0.00 B)\n"
      ]
     },
     "metadata": {},
     "output_type": "display_data"
    }
   ],
   "source": [
    "# model\n",
    "model = Sequential()\n",
    "\n",
    "# a keras convolutional layer is called Conv2D\n",
    "# help(Conv2D)\n",
    "# note that the first layer needs to be told the input shape explicitly\n",
    "\n",
    "# first conv layer\n",
    "model.add(Conv2D(32, kernel_size=(3, 3),\n",
    "                 activation='relu',\n",
    "                 input_shape=input_shape)) # input shape = (img_rows, img_cols, 1)\n",
    "\n",
    "# second conv layer\n",
    "model.add(Conv2D(64, kernel_size=(3, 3), \n",
    "                 activation='relu'))\n",
    "model.add(MaxPooling2D(pool_size=(2, 2)))\n",
    "model.add(Dropout(0.25))\n",
    "\n",
    "# flatten and put a fully connected layer\n",
    "model.add(Flatten())\n",
    "model.add(Dense(128, activation='relu')) # fully connected\n",
    "model.add(Dropout(0.5))\n",
    "\n",
    "# softmax layer\n",
    "model.add(Dense(num_classes, activation='softmax'))\n",
    "\n",
    "# model summary\n",
    "model.summary()\n"
   ]
  },
  {
   "cell_type": "markdown",
   "metadata": {
    "id": "0oNX2VD4qklH"
   },
   "source": [
    "#### Understanding Model Summary\n",
    "\n",
    "It is a good practice to spend some time staring at the model summary above and verify the number of parameteres, output sizes etc. Let's do some calculations to verify that we understand the model deeply enough. \n",
    "\n",
    "- Layer-1 (Conv2D): We have used 32 kernels of size (3, 3), and each kernel has a single bias, so we have 32 x 3 x 3 (weights) + 32 (biases) = 320 parameters (all trainable). Note that the kernels have only one channel since the input images are 2D (grayscale). By default, a convolutional layer uses stride of 1 and no padding, so the output from this layer is of shape 26 x 26 x 32, as shown in the summary above (the first element `None` is for the batch size).\n",
    "\n",
    "- Layer-2 (Conv2D): We have used 64 kernels of size (3, 3), but this time, each kernel has to convolve a tensor of size (26, 26, 32) from the previous layer. Thus, the kernels will also have 32 channels, and so the shape of each kernel is (3, 3, 32) (and we have 64 of them). So we have 64 x 3 x 3 x 32 (weights) + 64 (biases) = 18496 parameters (all trainable). The output shape is (24, 24, 64) since each kernel produces a (24, 24) feature map.\n",
    "\n",
    "- Max pooling: The pooling layer gets the (24, 24, 64) input from the previous conv layer and produces a (12, 12, 64) output (the default pooling uses stride of 2). There are no trainable parameters in the pooling layer.\n",
    "\n",
    "- The `Dropout` layer does not alter the output shape and has no trainable parameters.\n",
    "\n",
    "- The `Flatten` layer simply takes in the (12, 12, 64) output from the previous layer and 'flattens' it into a vector of length 12 x 12 x 64 = 9216.\n",
    "\n",
    "- The `Dense` layer is a plain fully connected layer with 128 neurons. It takes the 9216-dimensional output vector from the previous layer (layer l-1) as the input and has 128 x 9216 (weights) + 128 (biases) =  1179776 trainable parameters. The output of this layer is a 128-dimensional vector.\n",
    "\n",
    "- The `Dropout` layer simply drops a few neurons.\n",
    "\n",
    "- Finally, we have a `Dense` softmax layer with 10 neurons which takes the 128-dimensional vector from the previous layer as input. It has 128 x 10 (weights) + 10 (biases) = 1290 trainable parameters.\n",
    "\n",
    "Thus, the total number of parameters are 1,199,882 all of which are trainable."
   ]
  },
  {
   "cell_type": "markdown",
   "metadata": {
    "id": "06S6p-o3qklI"
   },
   "source": [
    "## 4. Fitting and Evaluating the Model\n",
    "\n",
    "Let's now compile and train the model."
   ]
  },
  {
   "cell_type": "code",
   "execution_count": 103,
   "metadata": {
    "executionInfo": {
     "elapsed": 17,
     "status": "ok",
     "timestamp": 1669784498699,
     "user": {
      "displayName": "Akshar Gupta",
      "userId": "03393520324044557957"
     },
     "user_tz": -330
    },
    "id": "v7xQ1nVbqklI"
   },
   "outputs": [],
   "source": [
    "# usual cross entropy loss\n",
    "# choose any optimiser such as adam, rmsprop etc\n",
    "# metric is accuracy\n",
    "model.compile(loss=tf.keras.losses.categorical_crossentropy,\n",
    "              optimizer=tf.keras.optimizers.Adadelta(),\n",
    "              metrics=['accuracy'])"
   ]
  },
  {
   "cell_type": "code",
   "execution_count": 104,
   "metadata": {
    "colab": {
     "base_uri": "https://localhost:8080/"
    },
    "executionInfo": {
     "elapsed": 32644,
     "status": "ok",
     "timestamp": 1669784531328,
     "user": {
      "displayName": "Akshar Gupta",
      "userId": "03393520324044557957"
     },
     "user_tz": -330
    },
    "id": "7S39saUMqklJ",
    "outputId": "c47656fd-dcdc-404b-a1cd-a0b175294cd9"
   },
   "outputs": [
    {
     "name": "stdout",
     "output_type": "stream",
     "text": [
      "Epoch 1/21\n",
      "\u001b[1m157/157\u001b[0m \u001b[32m━━━━━━━━━━━━━━━━━━━━\u001b[0m\u001b[37m\u001b[0m \u001b[1m7s\u001b[0m 40ms/step - accuracy: 0.0935 - loss: 2.3087 - val_accuracy: 0.1525 - val_loss: 2.2851\n",
      "Epoch 2/21\n",
      "\u001b[1m157/157\u001b[0m \u001b[32m━━━━━━━━━━━━━━━━━━━━\u001b[0m\u001b[37m\u001b[0m \u001b[1m6s\u001b[0m 38ms/step - accuracy: 0.1301 - loss: 2.2867 - val_accuracy: 0.2743 - val_loss: 2.2628\n",
      "Epoch 3/21\n",
      "\u001b[1m157/157\u001b[0m \u001b[32m━━━━━━━━━━━━━━━━━━━━\u001b[0m\u001b[37m\u001b[0m \u001b[1m6s\u001b[0m 38ms/step - accuracy: 0.1689 - loss: 2.2675 - val_accuracy: 0.3811 - val_loss: 2.2393\n",
      "Epoch 4/21\n",
      "\u001b[1m157/157\u001b[0m \u001b[32m━━━━━━━━━━━━━━━━━━━━\u001b[0m\u001b[37m\u001b[0m \u001b[1m6s\u001b[0m 38ms/step - accuracy: 0.2208 - loss: 2.2446 - val_accuracy: 0.4644 - val_loss: 2.2136\n",
      "Epoch 5/21\n",
      "\u001b[1m157/157\u001b[0m \u001b[32m━━━━━━━━━━━━━━━━━━━━\u001b[0m\u001b[37m\u001b[0m \u001b[1m6s\u001b[0m 38ms/step - accuracy: 0.2666 - loss: 2.2220 - val_accuracy: 0.5444 - val_loss: 2.1852\n",
      "Epoch 6/21\n",
      "\u001b[1m157/157\u001b[0m \u001b[32m━━━━━━━━━━━━━━━━━━━━\u001b[0m\u001b[37m\u001b[0m \u001b[1m6s\u001b[0m 38ms/step - accuracy: 0.3184 - loss: 2.1941 - val_accuracy: 0.6011 - val_loss: 2.1529\n",
      "Epoch 7/21\n",
      "\u001b[1m157/157\u001b[0m \u001b[32m━━━━━━━━━━━━━━━━━━━━\u001b[0m\u001b[37m\u001b[0m \u001b[1m6s\u001b[0m 38ms/step - accuracy: 0.3616 - loss: 2.1651 - val_accuracy: 0.6396 - val_loss: 2.1169\n",
      "Epoch 8/21\n",
      "\u001b[1m157/157\u001b[0m \u001b[32m━━━━━━━━━━━━━━━━━━━━\u001b[0m\u001b[37m\u001b[0m \u001b[1m6s\u001b[0m 39ms/step - accuracy: 0.4043 - loss: 2.1310 - val_accuracy: 0.6678 - val_loss: 2.0765\n",
      "Epoch 9/21\n",
      "\u001b[1m157/157\u001b[0m \u001b[32m━━━━━━━━━━━━━━━━━━━━\u001b[0m\u001b[37m\u001b[0m \u001b[1m6s\u001b[0m 39ms/step - accuracy: 0.4395 - loss: 2.0926 - val_accuracy: 0.6880 - val_loss: 2.0319\n",
      "Epoch 10/21\n",
      "\u001b[1m157/157\u001b[0m \u001b[32m━━━━━━━━━━━━━━━━━━━━\u001b[0m\u001b[37m\u001b[0m \u001b[1m6s\u001b[0m 39ms/step - accuracy: 0.4726 - loss: 2.0529 - val_accuracy: 0.7015 - val_loss: 1.9827\n",
      "Epoch 11/21\n",
      "\u001b[1m157/157\u001b[0m \u001b[32m━━━━━━━━━━━━━━━━━━━━\u001b[0m\u001b[37m\u001b[0m \u001b[1m6s\u001b[0m 39ms/step - accuracy: 0.5022 - loss: 2.0045 - val_accuracy: 0.7131 - val_loss: 1.9289\n",
      "Epoch 12/21\n",
      "\u001b[1m157/157\u001b[0m \u001b[32m━━━━━━━━━━━━━━━━━━━━\u001b[0m\u001b[37m\u001b[0m \u001b[1m6s\u001b[0m 39ms/step - accuracy: 0.5189 - loss: 1.9578 - val_accuracy: 0.7268 - val_loss: 1.8703\n",
      "Epoch 13/21\n",
      "\u001b[1m157/157\u001b[0m \u001b[32m━━━━━━━━━━━━━━━━━━━━\u001b[0m\u001b[37m\u001b[0m \u001b[1m6s\u001b[0m 39ms/step - accuracy: 0.5375 - loss: 1.9075 - val_accuracy: 0.7375 - val_loss: 1.8072\n",
      "Epoch 14/21\n",
      "\u001b[1m157/157\u001b[0m \u001b[32m━━━━━━━━━━━━━━━━━━━━\u001b[0m\u001b[37m\u001b[0m \u001b[1m6s\u001b[0m 39ms/step - accuracy: 0.5531 - loss: 1.8474 - val_accuracy: 0.7467 - val_loss: 1.7399\n",
      "Epoch 15/21\n",
      "\u001b[1m157/157\u001b[0m \u001b[32m━━━━━━━━━━━━━━━━━━━━\u001b[0m\u001b[37m\u001b[0m \u001b[1m6s\u001b[0m 40ms/step - accuracy: 0.5683 - loss: 1.7858 - val_accuracy: 0.7541 - val_loss: 1.6684\n",
      "Epoch 16/21\n",
      "\u001b[1m157/157\u001b[0m \u001b[32m━━━━━━━━━━━━━━━━━━━━\u001b[0m\u001b[37m\u001b[0m \u001b[1m6s\u001b[0m 39ms/step - accuracy: 0.5896 - loss: 1.7212 - val_accuracy: 0.7627 - val_loss: 1.5938\n",
      "Epoch 17/21\n",
      "\u001b[1m157/157\u001b[0m \u001b[32m━━━━━━━━━━━━━━━━━━━━\u001b[0m\u001b[37m\u001b[0m \u001b[1m6s\u001b[0m 39ms/step - accuracy: 0.5899 - loss: 1.6603 - val_accuracy: 0.7706 - val_loss: 1.5179\n",
      "Epoch 18/21\n",
      "\u001b[1m157/157\u001b[0m \u001b[32m━━━━━━━━━━━━━━━━━━━━\u001b[0m\u001b[37m\u001b[0m \u001b[1m6s\u001b[0m 39ms/step - accuracy: 0.6078 - loss: 1.5967 - val_accuracy: 0.7786 - val_loss: 1.4415\n",
      "Epoch 19/21\n",
      "\u001b[1m157/157\u001b[0m \u001b[32m━━━━━━━━━━━━━━━━━━━━\u001b[0m\u001b[37m\u001b[0m \u001b[1m6s\u001b[0m 39ms/step - accuracy: 0.6185 - loss: 1.5282 - val_accuracy: 0.7855 - val_loss: 1.3660\n",
      "Epoch 20/21\n",
      "\u001b[1m157/157\u001b[0m \u001b[32m━━━━━━━━━━━━━━━━━━━━\u001b[0m\u001b[37m\u001b[0m \u001b[1m6s\u001b[0m 39ms/step - accuracy: 0.6219 - loss: 1.4696 - val_accuracy: 0.7922 - val_loss: 1.2923\n",
      "Epoch 21/21\n",
      "\u001b[1m157/157\u001b[0m \u001b[32m━━━━━━━━━━━━━━━━━━━━\u001b[0m\u001b[37m\u001b[0m \u001b[1m6s\u001b[0m 39ms/step - accuracy: 0.6457 - loss: 1.4004 - val_accuracy: 0.7977 - val_loss: 1.2221\n"
     ]
    },
    {
     "data": {
      "text/plain": [
       "<keras.src.callbacks.history.History at 0x3c02bb520>"
      ]
     },
     "execution_count": 104,
     "metadata": {},
     "output_type": "execute_result"
    }
   ],
   "source": [
    "# fit the model\n",
    "# this should take around 10-15 minutes when run locally on a windows/mac PC \n",
    "model.fit(x_train, y_train,\n",
    "          batch_size=batch_size,\n",
    "          epochs=epochs,\n",
    "          verbose=1,\n",
    "          validation_data=(x_test, y_test))"
   ]
  },
  {
   "cell_type": "code",
   "execution_count": 105,
   "metadata": {
    "colab": {
     "base_uri": "https://localhost:8080/"
    },
    "executionInfo": {
     "elapsed": 1297,
     "status": "ok",
     "timestamp": 1669784532578,
     "user": {
      "displayName": "Akshar Gupta",
      "userId": "03393520324044557957"
     },
     "user_tz": -330
    },
    "id": "-bZBqXXGqklK",
    "outputId": "84fec636-f4b8-467d-da44-a2922b6e13a5"
   },
   "outputs": [
    {
     "name": "stdout",
     "output_type": "stream",
     "text": [
      "\u001b[1m313/313\u001b[0m \u001b[32m━━━━━━━━━━━━━━━━━━━━\u001b[0m\u001b[37m\u001b[0m \u001b[1m1s\u001b[0m 4ms/step - accuracy: 0.7671 - loss: 1.2765\n"
     ]
    },
    {
     "data": {
      "text/plain": [
       "[1.2221131324768066, 0.7976999878883362]"
      ]
     },
     "execution_count": 105,
     "metadata": {},
     "output_type": "execute_result"
    }
   ],
   "source": [
    "# evaluate the model on test data\n",
    "model.evaluate(x_test, y_test)"
   ]
  },
  {
   "cell_type": "code",
   "execution_count": 106,
   "metadata": {
    "colab": {
     "base_uri": "https://localhost:8080/"
    },
    "executionInfo": {
     "elapsed": 7,
     "status": "ok",
     "timestamp": 1669784532579,
     "user": {
      "displayName": "Akshar Gupta",
      "userId": "03393520324044557957"
     },
     "user_tz": -330
    },
    "id": "NrhKcaINqklK",
    "outputId": "6f94f7e9-5fb6-4fc4-b87b-d7db847e292f"
   },
   "outputs": [
    {
     "name": "stdout",
     "output_type": "stream",
     "text": [
      "['loss', 'compile_metrics']\n"
     ]
    }
   ],
   "source": [
    "print(model.metrics_names)"
   ]
  },
  {
   "cell_type": "code",
   "execution_count": 112,
   "metadata": {},
   "outputs": [
    {
     "data": {
      "text/plain": [
       "array([0., 0., 0., 0., 1., 0., 0., 0., 0., 0.])"
      ]
     },
     "execution_count": 112,
     "metadata": {},
     "output_type": "execute_result"
    }
   ],
   "source": [
    "y_test[121]"
   ]
  },
  {
   "cell_type": "code",
   "execution_count": 113,
   "metadata": {},
   "outputs": [
    {
     "name": "stdout",
     "output_type": "stream",
     "text": [
      "\u001b[1m1/1\u001b[0m \u001b[32m━━━━━━━━━━━━━━━━━━━━\u001b[0m\u001b[37m\u001b[0m \u001b[1m0s\u001b[0m 9ms/step\n",
      "[[0.0837044  0.05869236 0.07573084 0.04070389 0.14957784 0.06339705\n",
      "  0.19913614 0.06742691 0.10574764 0.15588295]]\n",
      "Predicted class for the first test sample: 6\n"
     ]
    }
   ],
   "source": [
    "\n",
    "input_data = np.expand_dims(x_test[121], axis=0)\n",
    "\n",
    "prediction= model.predict(input_data)\n",
    "print(prediction)\n",
    "# # Get the index of the maximum value in the array\n",
    "predicted_class = np.argmax(prediction, axis=1)\n",
    "\n",
    "print(\"Predicted class for the first test sample:\", predicted_class[0])"
   ]
  },
  {
   "cell_type": "code",
   "execution_count": null,
   "metadata": {},
   "outputs": [],
   "source": []
  },
  {
   "cell_type": "code",
   "execution_count": null,
   "metadata": {},
   "outputs": [],
   "source": []
  }
 ],
 "metadata": {
  "accelerator": "GPU",
  "colab": {
   "provenance": []
  },
  "gpuClass": "standard",
  "kernelspec": {
   "display_name": "Python 3 (ipykernel)",
   "language": "python",
   "name": "python3"
  },
  "language_info": {
   "codemirror_mode": {
    "name": "ipython",
    "version": 3
   },
   "file_extension": ".py",
   "mimetype": "text/x-python",
   "name": "python",
   "nbconvert_exporter": "python",
   "pygments_lexer": "ipython3",
   "version": "3.10.11"
  }
 },
 "nbformat": 4,
 "nbformat_minor": 4
}
